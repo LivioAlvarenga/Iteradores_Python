{
 "metadata": {
  "language_info": {
   "codemirror_mode": {
    "name": "ipython",
    "version": 3
   },
   "file_extension": ".py",
   "mimetype": "text/x-python",
   "name": "python",
   "nbconvert_exporter": "python",
   "pygments_lexer": "ipython3",
   "version": "3.9.5"
  },
  "orig_nbformat": 4,
  "kernelspec": {
   "name": "python3",
   "display_name": "Python 3.9.5 64-bit ('venv': venv)"
  },
  "interpreter": {
   "hash": "325cb660cce599eef17833f9bb0afcb0e3dbe3e8605c570c8e00eb36d04c5df3"
  }
 },
 "nbformat": 4,
 "nbformat_minor": 2,
 "cells": [
  {
   "source": [
    "# getsizeof()\n",
    "**_Retorna o tamanho de um objeto em bytes_**. O objeto pode ser qualquer tipo de objeto. Se fornecido, o padrão será retornado se o objeto não fornecer meios para recuperar o tamanho. Caso contrário, a TypeErrorserá gerado.\n",
    "\n",
    "getsizeof()chama o **\\__sizeof__** método do objeto e adiciona uma sobrecarga adicional do coletor de lixo se o objeto for gerenciado pelo coletor de lixo."
   ],
   "cell_type": "markdown",
   "metadata": {}
  },
  {
   "cell_type": "code",
   "execution_count": 50,
   "metadata": {},
   "outputs": [
    {
     "output_type": "stream",
     "name": "stdout",
     "text": [
      "x = 28 bytes\ny = 72 bytes\n"
     ]
    }
   ],
   "source": [
    "from sys import getsizeof\n",
    "\n",
    "x = 5\n",
    "y = [1, 'Python']\n",
    "\n",
    "print(f'x = {getsizeof(x)} bytes')\n",
    "print(f'y = {getsizeof(y)} bytes')"
   ]
  },
  {
   "cell_type": "code",
   "execution_count": 51,
   "metadata": {},
   "outputs": [
    {
     "output_type": "stream",
     "name": "stdout",
     "text": [
      "VendasTesouroDireto.csv = 5010412 bytes\nVendasTesouroDireto.csv = 5010.412 Kbytes\nconteudo = <class 'str'>\n"
     ]
    }
   ],
   "source": [
    "# Verificando o tamanho do arquivo VendasTesouroDireto.csv\n",
    "with open('VendasTesouroDireto.csv', 'r', encoding=\"utf-8\") as a:\n",
    "    conteudo = a.read()\n",
    "\n",
    "print(f'VendasTesouroDireto.csv = {getsizeof(conteudo)} bytes')\n",
    "print(f'VendasTesouroDireto.csv = {getsizeof(conteudo)/1000} Kbytes')\n",
    "\n",
    "print(f'conteudo = {type(conteudo)}')"
   ]
  },
  {
   "source": [
    "# .readlines()\n",
    "Cria uma lista com cada linha do arquivo."
   ],
   "cell_type": "markdown",
   "metadata": {}
  },
  {
   "cell_type": "code",
   "execution_count": 79,
   "metadata": {
    "tags": []
   },
   "outputs": [
    {
     "output_type": "stream",
     "name": "stdout",
     "text": [
      "VendasTesouroDireto.csv = 562488 bytes\nVendasTesouroDireto.csv = 562.488 Kbytes\nconteudo = <class 'list'>\n"
     ]
    }
   ],
   "source": [
    "# criando uma lista com cada linha do arquivo\n",
    "with open('VendasTesouroDireto.csv', 'r', encoding=\"utf-8\") as a:\n",
    "    conteudo = a.readlines()\n",
    "\n",
    "print(f'VendasTesouroDireto.csv = {getsizeof(conteudo)} bytes')\n",
    "print(f'VendasTesouroDireto.csv = {getsizeof(conteudo)/1000} Kbytes')\n",
    "\n",
    "print(f'conteudo = {type(conteudo)}')"
   ]
  },
  {
   "cell_type": "code",
   "execution_count": 67,
   "metadata": {},
   "outputs": [
    {
     "output_type": "stream",
     "name": "stdout",
     "text": [
      "Tesouro IPCA+ com Juros Semestrais;15/05/2011;22/09/2008;1678,137281;664,40;1114954,40\n\nLinha2 = 136 bytes\n"
     ]
    }
   ],
   "source": [
    "# imprimindo a segunda linha do arquivo e verificando tamanho em bytes\n",
    "print(conteudo[1])\n",
    "print(f'Linha2 = {getsizeof(conteudo[1])} bytes')"
   ]
  },
  {
   "source": [
    "# \\_\\_iter__ e \\_\\_next__"
   ],
   "cell_type": "markdown",
   "metadata": {}
  },
  {
   "cell_type": "code",
   "execution_count": 68,
   "metadata": {},
   "outputs": [
    {
     "output_type": "execute_result",
     "data": {
      "text/plain": [
       "True"
      ]
     },
     "metadata": {},
     "execution_count": 68
    }
   ],
   "source": [
    "# Confirmando que conteudo tem o método __iter__ de iterável.\n",
    "'__iter__' in dir(conteudo)"
   ]
  },
  {
   "cell_type": "code",
   "execution_count": 69,
   "metadata": {},
   "outputs": [
    {
     "output_type": "execute_result",
     "data": {
      "text/plain": [
       "False"
      ]
     },
     "metadata": {},
     "execution_count": 69
    }
   ],
   "source": [
    "# Confirmando se conteudo tem o método __next__ para aplicarmos o lazy evaluation.\n",
    "'__next__' in dir(conteudo)"
   ]
  },
  {
   "cell_type": "code",
   "execution_count": 81,
   "metadata": {},
   "outputs": [
    {
     "output_type": "stream",
     "name": "stdout",
     "text": [
      "conteudo = <class 'list'>\nconteudo = <class 'list_iterator'>\n"
     ]
    }
   ],
   "source": [
    "# verificando o tipo do objeto conteudo\n",
    "print(f'conteudo = {type(conteudo)}')\n",
    "# tornando conteudo um objeto list_iterator\n",
    "conteudo = iter(conteudo)\n",
    "print(f'conteudo = {type(conteudo)}')"
   ]
  },
  {
   "cell_type": "code",
   "execution_count": 71,
   "metadata": {},
   "outputs": [
    {
     "output_type": "execute_result",
     "data": {
      "text/plain": [
       "True"
      ]
     },
     "metadata": {},
     "execution_count": 71
    }
   ],
   "source": [
    "# Confirmando se conteudo tem o método __next__ para aplicarmos o lazy evaluation.\n",
    "'__next__' in dir(conteudo)"
   ]
  },
  {
   "cell_type": "code",
   "execution_count": 82,
   "metadata": {},
   "outputs": [
    {
     "output_type": "stream",
     "name": "stdout",
     "text": [
      "Tipo Titulo;Vencimento do Titulo;Data Venda;PU;Quantidade;Valor\n\nLinha = 113 bytes\n"
     ]
    }
   ],
   "source": [
    "# aplicando a função next()\n",
    "linha = next(conteudo)\n",
    "print(linha)\n",
    "\n",
    "# verificando o tamanho em bytes\n",
    "print(f'Linha = {getsizeof(linha)} bytes')"
   ]
  },
  {
   "cell_type": "code",
   "execution_count": 83,
   "metadata": {},
   "outputs": [
    {
     "output_type": "stream",
     "name": "stdout",
     "text": [
      "Tesouro IPCA+ com Juros Semestrais;15/05/2011;22/09/2008;1678,137281;664,40;1114954,40\n\nLinha = 136 bytes\n"
     ]
    }
   ],
   "source": [
    "linha = next(conteudo)\n",
    "print(linha)\n",
    "print(f'Linha = {getsizeof(linha)} bytes')"
   ]
  }
 ]
}