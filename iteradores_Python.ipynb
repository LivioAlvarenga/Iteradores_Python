{
 "metadata": {
  "language_info": {
   "codemirror_mode": {
    "name": "ipython",
    "version": 3
   },
   "file_extension": ".py",
   "mimetype": "text/x-python",
   "name": "python",
   "nbconvert_exporter": "python",
   "pygments_lexer": "ipython3",
   "version": "3.9.5"
  },
  "orig_nbformat": 4,
  "kernelspec": {
   "name": "python395jvsc74a57bd0325cb660cce599eef17833f9bb0afcb0e3dbe3e8605c570c8e00eb36d04c5df3",
   "display_name": "Python 3.9.5 64-bit ('venv': venv)",
   "language": "python"
  },
  "interpreter": {
   "hash": "325cb660cce599eef17833f9bb0afcb0e3dbe3e8605c570c8e00eb36d04c5df3"
  }
 },
 "nbformat": 4,
 "nbformat_minor": 2,
 "cells": [
  {
   "source": [
    "# getsizeof()\n",
    "**_Retorna o tamanho de um objeto em bytes_**. O objeto pode ser qualquer tipo de objeto. Se fornecido, o padrão será retornado se o objeto não fornecer meios para recuperar o tamanho. Caso contrário, a TypeErrorserá gerado.\n",
    "\n",
    "getsizeof()chama o **\\__sizeof__** método do objeto e adiciona uma sobrecarga adicional do coletor de lixo se o objeto for gerenciado pelo coletor de lixo."
   ],
   "cell_type": "markdown",
   "metadata": {}
  },
  {
   "cell_type": "code",
   "execution_count": 1,
   "metadata": {},
   "outputs": [
    {
     "output_type": "stream",
     "name": "stdout",
     "text": [
      "x = 28 bytes\ny = 72 bytes\n"
     ]
    }
   ],
   "source": [
    "from sys import getsizeof\n",
    "\n",
    "x = 5\n",
    "y = [1, 'Python']\n",
    "\n",
    "print(f'x = {getsizeof(x)} bytes')\n",
    "print(f'y = {getsizeof(y)} bytes')"
   ]
  },
  {
   "cell_type": "code",
   "execution_count": 26,
   "metadata": {},
   "outputs": [
    {
     "output_type": "stream",
     "name": "stdout",
     "text": [
      "VendasTesouroDireto.csv = 5010412 bytes\nVendasTesouroDireto.csv = 5010.412 Kbytes\n"
     ]
    }
   ],
   "source": [
    "# Verificando o tamanho do arquivo VendasTesouroDireto.csv\n",
    "with open('VendasTesouroDireto.csv', 'r', encoding=\"utf-8\") as a:\n",
    "    conteudo = a.read()\n",
    "\n",
    "print(f'VendasTesouroDireto.csv = {getsizeof(conteudo)} bytes')\n",
    "print(f'VendasTesouroDireto.csv = {getsizeof(conteudo)/1000} Kbytes')"
   ]
  },
  {
   "source": [
    "# O método \\_\\_getitem__"
   ],
   "cell_type": "markdown",
   "metadata": {}
  },
  {
   "cell_type": "code",
   "execution_count": 3,
   "metadata": {},
   "outputs": [
    {
     "output_type": "execute_result",
     "data": {
      "text/plain": [
       "True"
      ]
     },
     "metadata": {},
     "execution_count": 3
    }
   ],
   "source": [
    "# Confirmando que conteudo tem o método __getitem__.\n",
    "'__getitem__' in dir(conteudo)"
   ]
  },
  {
   "cell_type": "code",
   "execution_count": 4,
   "metadata": {},
   "outputs": [
    {
     "output_type": "stream",
     "name": "stdout",
     "text": [
      "Tipo Titulo;Vencimento do Titulo;Data Venda;PU;Quantidade;Valor\nTesouro IPCA+ com Juros Semestrais;15/05/2011;22/09/2008;1678,137281;664,40;1114954,40\n\n Prefixado com Juros Semestrais;01/01/2017;17/11/2008;730,230014;410,80;299978,48\nTesouro IPCA+;15/05/2015;17/11/2008;966,989586;750,00;725242,18\nTesouro Selic;07/03/2012;17/11/2008;3668,550000;239,00;876783,45\nTesouro Prefixado com Juros Semestrais;01/01/2014;17/11/2008;801,760094;658,80;528199,54\n\n"
     ]
    }
   ],
   "source": [
    "# fazendo slice em nosso objeto\n",
    "print(conteudo[0:151])\n",
    "\n",
    "# so conseguimos fazer isto, pois nosso objeto esta todo na memória, assim podemos acessar qualquer parte do mesmo.a\n",
    "print(conteudo[1000:1300])"
   ]
  },
  {
   "source": [
    "# É iterável? / É iterador?"
   ],
   "cell_type": "markdown",
   "metadata": {}
  },
  {
   "cell_type": "code",
   "execution_count": 5,
   "metadata": {},
   "outputs": [
    {
     "output_type": "execute_result",
     "data": {
      "text/plain": [
       "True"
      ]
     },
     "metadata": {},
     "execution_count": 5
    }
   ],
   "source": [
    "# Confirmando que conteudo tem o método __iter__ de iterável.\n",
    "'__iter__' in dir(conteudo)"
   ]
  },
  {
   "cell_type": "code",
   "execution_count": 6,
   "metadata": {},
   "outputs": [
    {
     "output_type": "execute_result",
     "data": {
      "text/plain": [
       "False"
      ]
     },
     "metadata": {},
     "execution_count": 6
    }
   ],
   "source": [
    "# Confirmando se conteudo tem o método __next__ de iterador.\n",
    "'__next__' in dir(conteudo)"
   ]
  },
  {
   "source": [
    "# Aplicando __iter__ / iter()"
   ],
   "cell_type": "markdown",
   "metadata": {}
  },
  {
   "cell_type": "code",
   "execution_count": 7,
   "metadata": {},
   "outputs": [
    {
     "output_type": "stream",
     "name": "stdout",
     "text": [
      "conteudo = <class 'str'>\n"
     ]
    }
   ],
   "source": [
    "# Verificando o tipo do objeto conteudo\n",
    "print(f'conteudo = {type(conteudo)}')\n"
   ]
  },
  {
   "cell_type": "code",
   "execution_count": 27,
   "metadata": {},
   "outputs": [
    {
     "output_type": "stream",
     "name": "stdout",
     "text": [
      "conteudo = <class 'str_iterator'>\n"
     ]
    }
   ],
   "source": [
    "# Tornando o objeto conteudo um iterador\n",
    "conteudo = iter(conteudo)\n",
    "print(f'conteudo = {type(conteudo)}')"
   ]
  },
  {
   "cell_type": "code",
   "execution_count": 24,
   "metadata": {},
   "outputs": [
    {
     "output_type": "execute_result",
     "data": {
      "text/plain": [
       "True"
      ]
     },
     "metadata": {},
     "execution_count": 24
    }
   ],
   "source": [
    "# Confirmando se conteudo tem o método __next__ o tornando um iterador\n",
    "'__next__' in dir(conteudo)"
   ]
  },
  {
   "source": [
    "# Lazy evaluation"
   ],
   "cell_type": "markdown",
   "metadata": {}
  },
  {
   "cell_type": "code",
   "execution_count": 28,
   "metadata": {},
   "outputs": [
    {
     "output_type": "stream",
     "name": "stdout",
     "text": [
      "T\ni\np\no\n"
     ]
    }
   ],
   "source": [
    "# iterando sobre o objeto com next().\n",
    "print(next(conteudo))\n",
    "print(next(conteudo))\n",
    "print(next(conteudo))\n",
    "print(next(conteudo))"
   ]
  },
  {
   "source": [
    "# Criando uma class que recebe um arquivo e aplica métodos \\_\\_iter__ e \\_\\_next__ aplicando lazy evaluation"
   ],
   "cell_type": "markdown",
   "metadata": {}
  },
  {
   "cell_type": "code",
   "execution_count": 39,
   "metadata": {},
   "outputs": [],
   "source": [
    "class File_iterator():\n",
    "    \"\"\"Recebe arquivo e retorna linha por linha aplicando\n",
    "    lógica lazy evaluation\"\"\"\n",
    "    def __init__(self, file: str):\n",
    "        self.file = open(file, 'r', encoding=\"utf-8\")\n",
    "        self.linha_atual = ''\n",
    "\n",
    "    def __iter__(self):\n",
    "        \"\"\"Tornando arquivo file um iterador\"\"\"\n",
    "        return self\n",
    "\n",
    "    def __next__(self):\n",
    "        \"\"\"Itera linha a linha do arquivo file. Retorna \n",
    "        linha do arquivo se a mesma possuir dados se não\n",
    "        StopIteration\"\"\"\n",
    "        self.linha_atual = self.file.readline()\n",
    "        if self.linha_atual:\n",
    "            return self.linha_atual\n",
    "        raise StopIteration"
   ]
  },
  {
   "cell_type": "code",
   "execution_count": 37,
   "metadata": {},
   "outputs": [
    {
     "output_type": "stream",
     "name": "stdout",
     "text": [
      "Tipo Titulo;Vencimento do Titulo;Data Venda;PU;Quantidade;Valor\n\nTesouro IPCA+ com Juros Semestrais;15/05/2011;22/09/2008;1678,137281;664,40;1114954,40\n\n"
     ]
    }
   ],
   "source": [
    "file = 'VendasTesouroDireto.csv'\n",
    "\n",
    "file_iterator = File_iterator(file)\n",
    "\n",
    "# Imprimindo as duas primeiras linhas\n",
    "print(next(file_iterator))\n",
    "print(next(file_iterator))"
   ]
  },
  {
   "cell_type": "code",
   "execution_count": 42,
   "metadata": {},
   "outputs": [
    {
     "output_type": "stream",
     "name": "stdout",
     "text": [
      "Tipo Titulo;Vencimento do Titulo;Data Venda;PU;Quantidade;Valor\n\nLinha 1 = 113 bytes\n\nTesouro IPCA+ com Juros Semestrais;15/05/2011;22/09/2008;1678,137281;664,40;1114954,40\n\nLinha 2 = 136 bytes\n"
     ]
    }
   ],
   "source": [
    "# Verificando consumo de memória em cada iteração\n",
    "from sys import getsizeof\n",
    "\n",
    "file = 'VendasTesouroDireto.csv'\n",
    "file_iterator = File_iterator(file)\n",
    "\n",
    "linha1 = next(file_iterator)\n",
    "print(f'{linha1}\\nLinha 1 = {getsizeof(linha1)} bytes\\n')\n",
    "\n",
    "linha2 = next(file_iterator)\n",
    "print(f'{linha2}\\nLinha 2 = {getsizeof(linha2)} bytes')"
   ]
  },
  {
   "source": [
    "# Expressões Geradoras"
   ],
   "cell_type": "markdown",
   "metadata": {}
  },
  {
   "cell_type": "code",
   "execution_count": 61,
   "metadata": {},
   "outputs": [
    {
     "output_type": "stream",
     "name": "stdout",
     "text": [
      "[2, 4, 6, 8, 10, 12, 14, 16, 18, 20]\n"
     ]
    }
   ],
   "source": [
    "# Criando uma lista com resultado da tabuada de 2 com um for\n",
    "tabuada = []\n",
    "for numero in range(1,11):\n",
    "    tabuada.append(numero*2)\n",
    "\n",
    "print(tabuada)"
   ]
  },
  {
   "cell_type": "code",
   "execution_count": 63,
   "metadata": {},
   "outputs": [
    {
     "output_type": "stream",
     "name": "stdout",
     "text": [
      "[2, 4, 6, 8, 10, 12, 14, 16, 18, 20]\n"
     ]
    }
   ],
   "source": [
    "# Substituindo o for por uma list comprehensions\n",
    "tabuada = [x*2 for x in range(1,11)]\n",
    "print(tabuada)"
   ]
  },
  {
   "cell_type": "code",
   "execution_count": 67,
   "metadata": {},
   "outputs": [
    {
     "output_type": "stream",
     "name": "stdout",
     "text": [
      "<generator object <genexpr> at 0x000001DBBE6D83C0>\n"
     ]
    }
   ],
   "source": [
    "# Substituindo por um tuple comprehensions(generator)\n",
    "tabuada = (x*2 for x in range(1,11))\n",
    "print(tabuada)"
   ]
  },
  {
   "cell_type": "code",
   "execution_count": 68,
   "metadata": {},
   "outputs": [
    {
     "output_type": "stream",
     "name": "stdout",
     "text": [
      "1º next = 2\n2º next = 4\n3º next = 6\n"
     ]
    }
   ],
   "source": [
    "# Expressão geradora mais next( ) Aplicando Lazy Evaluetion\n",
    "\n",
    "print(f'1º next = {next(tabuada)}')\n",
    "print(f'2º next = {next(tabuada)}')\n",
    "print(f'3º next = {next(tabuada)}')"
   ]
  },
  {
   "source": [
    "## Comparando uso de memória em expressões geradoras"
   ],
   "cell_type": "markdown",
   "metadata": {}
  },
  {
   "cell_type": "code",
   "execution_count": 72,
   "metadata": {},
   "outputs": [
    {
     "output_type": "stream",
     "name": "stdout",
     "text": [
      "[2, 4, 6, 8, 10, 12, 14, 16, 18, 20]\ntamanho em bytes: 184\n\n<generator object <genexpr> at 0x000001DBBDBE14A0>\ntamanho em bytes: 112\n\n2\ntamanho em bytes: 28\n"
     ]
    }
   ],
   "source": [
    "from sys import getsizeof\n",
    "# list comprehensions Vs tuple comprehensions(generator)\n",
    "\n",
    "tabuada = [x*2 for x in range(1,11)]\n",
    "print(f'{tabuada}\\ntamanho em bytes: {getsizeof(tabuada)}\\n')\n",
    "\n",
    "# tuple comprehensions é um genaretor\n",
    "tabuada = (x*2 for x in range(1,11))\n",
    "print(f'{tabuada}\\ntamanho em bytes: {getsizeof(tabuada)}\\n')\n",
    "print(f'{next(tabuada)}\\ntamanho em bytes: {getsizeof(next(tabuada))}')"
   ]
  },
  {
   "cell_type": "code",
   "execution_count": 73,
   "metadata": {},
   "outputs": [
    {
     "output_type": "stream",
     "name": "stdout",
     "text": [
      "tabuada\ntamanho em bytes: 8856\n\n<generator object <genexpr> at 0x000001DBBDBE14A0>\ntamanho em bytes: 112\n\n2\ntamanho em bytes: 28\n"
     ]
    }
   ],
   "source": [
    "# se refizermos o exemplo acima agora com um range de 1000 o tamanho do generator continua o mesmo, já o da lista aumenta e muito. Magia =)\n",
    "\n",
    "tabuada = [x*2 for x in range(1,1000)]\n",
    "print(f'{\"tabuada\"}\\ntamanho em bytes: {getsizeof(tabuada)}\\n')\n",
    "\n",
    "# tuple comprehensions é um genaretor\n",
    "tabuada = (x*2 for x in range(1,1000))\n",
    "print(f'{tabuada}\\ntamanho em bytes: {getsizeof(tabuada)}\\n')\n",
    "print(f'{next(tabuada)}\\ntamanho em bytes: {getsizeof(next(tabuada))}')"
   ]
  },
  {
   "source": [
    "# Função geradora (yield)"
   ],
   "cell_type": "markdown",
   "metadata": {}
  },
  {
   "cell_type": "code",
   "execution_count": 69,
   "metadata": {},
   "outputs": [
    {
     "output_type": "stream",
     "name": "stdout",
     "text": [
      "1\n2\n3\n"
     ]
    }
   ],
   "source": [
    "# Exemplo de função geradora\n",
    "def geradora():\n",
    "    yield 1\n",
    "    yield 2\n",
    "    yield 3\n",
    "\n",
    "g = geradora()\n",
    "\n",
    "print(f'{next(g)}')\n",
    "print(f'{next(g)}')\n",
    "print(f'{next(g)}')"
   ]
  },
  {
   "cell_type": "code",
   "execution_count": 71,
   "metadata": {},
   "outputs": [
    {
     "output_type": "stream",
     "name": "stdout",
     "text": [
      "O tipo de def geradora é: <class 'function'>\n\nO tipo de g = geradora() é: <class 'generator'>\n\n"
     ]
    }
   ],
   "source": [
    "# Função Vs Gerador\n",
    "print(f'O tipo de def geradora é: {type(geradora)}\\n')\n",
    "print(f'O tipo de g = geradora() é: {type(g)}\\n')"
   ]
  },
  {
   "source": [
    "## Mais exemplos de geradores"
   ],
   "cell_type": "markdown",
   "metadata": {}
  },
  {
   "cell_type": "code",
   "execution_count": 88,
   "metadata": {},
   "outputs": [
    {
     "output_type": "stream",
     "name": "stdout",
     "text": [
      "0\n1\n2\n3\n4\n"
     ]
    }
   ],
   "source": [
    "# yield pode nos ajudar a escrever geradores de maneira simples e gerar iteráveis de maneira graciosa. Sem __iter__, sem __next__. A linguagem faz isso pra você. Você só se preocupa com o necessário\n",
    "\n",
    "def contador():\n",
    "    index = 0\n",
    "    while True:\n",
    "        yield index\n",
    "        index += 1\n",
    "\n",
    "c = contador()\n",
    "\n",
    "print(f'{next(c)}')\n",
    "print(f'{next(c)}')\n",
    "print(f'{next(c)}')\n",
    "print(f'{next(c)}')\n",
    "print(f'{next(c)}')"
   ]
  },
  {
   "cell_type": "code",
   "execution_count": 94,
   "metadata": {},
   "outputs": [
    {
     "output_type": "stream",
     "name": "stdout",
     "text": [
      "O tipo de gen_exemplo é: <class 'function'>\nO tipo de g é: <class 'generator'>\n\nEntrei na função\nPrimeiro\n\nEstou na função\nSegundo\n\nEstou na função p.2\nUltimo\n\nSai da função\n"
     ]
    },
    {
     "output_type": "error",
     "ename": "StopIteration",
     "evalue": "",
     "traceback": [
      "\u001b[1;31m---------------------------------------------------------------------------\u001b[0m",
      "\u001b[1;31mStopIteration\u001b[0m                             Traceback (most recent call last)",
      "\u001b[1;32m<ipython-input-94-53687ba23f82>\u001b[0m in \u001b[0;36m<module>\u001b[1;34m\u001b[0m\n\u001b[0;32m     19\u001b[0m \u001b[0mprint\u001b[0m\u001b[1;33m(\u001b[0m\u001b[1;34mf'{next(g)}\\n'\u001b[0m\u001b[1;33m)\u001b[0m\u001b[1;33m\u001b[0m\u001b[1;33m\u001b[0m\u001b[0m\n\u001b[0;32m     20\u001b[0m \u001b[0mprint\u001b[0m\u001b[1;33m(\u001b[0m\u001b[1;34mf'{next(g)}\\n'\u001b[0m\u001b[1;33m)\u001b[0m\u001b[1;33m\u001b[0m\u001b[1;33m\u001b[0m\u001b[0m\n\u001b[1;32m---> 21\u001b[1;33m \u001b[0mprint\u001b[0m\u001b[1;33m(\u001b[0m\u001b[1;34mf'{next(g)}'\u001b[0m\u001b[1;33m)\u001b[0m\u001b[1;33m\u001b[0m\u001b[1;33m\u001b[0m\u001b[0m\n\u001b[0m",
      "\u001b[1;31mStopIteration\u001b[0m: "
     ]
    }
   ],
   "source": [
    "# Nomenclatura - Quando usamos return, dizemos que a função retorna algo. Quando usamos yield dizemos que a função faz/gera algum tipo de valor. Ex:1\n",
    "\n",
    "def gen_exemplo():\n",
    "    print('Entrei na função')\n",
    "    yield 'Primeiro'\n",
    "    print('Estou na função')\n",
    "    yield 'Segundo'\n",
    "    print('Estou na função p.2')\n",
    "    yield 'Ultimo'\n",
    "    print('Sai da função')\n",
    "\n",
    "print(f'O tipo de gen_exemplo é: {type(gen_exemplo)}')\n",
    "\n",
    "g = gen_exemplo()\n",
    "\n",
    "print(f'O tipo de g é: {type(g)}\\n')\n",
    "\n",
    "print(f'{next(g)}\\n')\n",
    "print(f'{next(g)}\\n')\n",
    "print(f'{next(g)}\\n')\n",
    "print(f'{next(g)}')"
   ]
  },
  {
   "cell_type": "code",
   "execution_count": 111,
   "metadata": {},
   "outputs": [
    {
     "output_type": "stream",
     "name": "stdout",
     "text": [
      "range(0, 10)\n<generator object gen at 0x000002AA3406AC80>\n0\n1\n[2, 3, 4, 5, 6, 7, 8, 9]\n"
     ]
    }
   ],
   "source": [
    "sec = range(10)\n",
    "\n",
    "def gen(iteravel):\n",
    "    for valor in iteravel:\n",
    "        yield valor\n",
    "\n",
    "print(sec)\n",
    "g = gen(sec)\n",
    "print(g)\n",
    "print(next(g))\n",
    "print(next(g))\n",
    "print(list(g))"
   ]
  },
  {
   "source": [
    "# Criando um gerador para ler linha por linha de um arquivo"
   ],
   "cell_type": "markdown",
   "metadata": {}
  },
  {
   "cell_type": "code",
   "execution_count": 75,
   "metadata": {},
   "outputs": [
    {
     "output_type": "stream",
     "name": "stdout",
     "text": [
      "['Tipo Titulo', 'Vencimento do Titulo', 'Data Venda', 'PU', 'Quantidade', 'Valor']\n['Tesouro IPCA+ com Juros Semestrais', '15/05/2011', '22/09/2008', '1678,137281', '664,40', '1114954,40']\n['Tesouro Prefixado com Juros Semestrais', '01/01/2010', '22/09/2008', '968,950900', '300,00', '290685,27']\n----------------------------------------------------------------------------------------------------\n['Tesouro Prefixado', '01/04/2009', '22/09/2008', '931,253563', '185,20', '172468,15']\n['Tesouro IPCA+ com Juros Semestrais', '15/08/2024', '22/09/2008', '1535,850000', '153,00', '234985,05']\n['Tesouro IPCA+ com Juros Semestrais', '15/05/2045', '23/09/2008', '1521,730000', '33,00', '50217,09']\n['Tesouro Prefixado', '01/04/2009', '23/09/2008', '931,704662', '201,60', '187831,65']\n['Tesouro IPCA+', '15/08/2024', '23/09/2008', '606,015359', '61,20', '37088,13']\n['Tesouro IPCA+', '15/05/2015', '23/09/2008', '1036,385938', '864,80', '896266,55']\n['Tesouro IPCA+ com Juros Semestrais', '15/05/2015', '23/09/2008', '1578,057978', '94,00', '148337,44']\n['Tesouro Prefixado com Juros Semestrais', '01/01/2014', '23/09/2008', '858,591666', '50,40', '43273,01']\n['Tesouro IPCA+ com Juros Semestrais', '15/08/2024', '17/11/2008', '1451,615079', '12,60', '18290,34']\n['Tesouro Selic', '07/03/2014', '17/11/2008', '3666,609948', '78,40', '287462,21']\n"
     ]
    }
   ],
   "source": [
    "file = 'VendasTesouroDireto.csv'\n",
    "\n",
    "def gen(file:str):\n",
    "    for linha in open(file, 'r', encoding=\"utf-8\"):\n",
    "        yield linha.strip().split(';')\n",
    "\n",
    "f = gen(file)\n",
    "\n",
    "# Assim ele carrega linha a linha na memória e não o arquivo inteiro.\n",
    "\n",
    "print(next(f))\n",
    "print(next(f))\n",
    "print(next(f))\n",
    "print('-' * 100)\n",
    "\n",
    "# poderiamos fazer um for para imprimir as 10 primeiras linhas, ou varrer todo arquivo sem carregar o mesmo na memória \n",
    "for linha in range(10):\n",
    "    print(next(f))"
   ]
  },
  {
   "source": [
    "## Aplicando yield from"
   ],
   "cell_type": "markdown",
   "metadata": {}
  },
  {
   "cell_type": "code",
   "execution_count": 133,
   "metadata": {},
   "outputs": [
    {
     "output_type": "stream",
     "name": "stdout",
     "text": [
      "<generator object raio_sinplificador at 0x000002AA34032DD0>\n1\n2\n3\n4\n"
     ]
    }
   ],
   "source": [
    "# yield from\n",
    "def raio_sinplificador(lista_composta):\n",
    "    for elemento in lista_composta:\n",
    "        yield from elemento\n",
    "\n",
    "lista = [[1,2,3],[4,5,6],[7,8,9]]\n",
    "\n",
    "g = raio_sinplificador(lista)\n",
    "print(g)\n",
    "print(next(g))\n",
    "print(next(g))\n",
    "print(next(g))\n",
    "print(next(g))"
   ]
  }
 ]
}